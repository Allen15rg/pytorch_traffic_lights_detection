{
 "cells": [
  {
   "cell_type": "code",
   "execution_count": null,
   "metadata": {},
   "outputs": [],
   "source": [
    "import os\n",
    "import sys\n",
    "import cv2\n",
    "import torch\n",
    "import torchvision\n",
    "\n",
    "from tl_dataset import TLDataset"
   ]
  },
  {
   "cell_type": "code",
   "execution_count": null,
   "metadata": {},
   "outputs": [],
   "source": [
    "from torchvision.models.detection.faster_rcnn import FastRCNNPredictor\n",
    "\n",
    "# load a model pre-trained pre-trained on COCO\n",
    "model = torchvision.models.detection.fasterrcnn_resnet50_fpn(pretrained=True)"
   ]
  },
  {
   "cell_type": "code",
   "execution_count": null,
   "metadata": {},
   "outputs": [],
   "source": [
    "# replace the classifier with a new one, that has\n",
    "# num_classes which is user-defined\n",
    "num_classes = 2  # 1 class (traffic light) + background\n",
    "# get number of input features for the classifier\n",
    "in_features = model.roi_heads.box_predictor.cls_score.in_features\n",
    "# replace the pre-trained head with a new one\n",
    "model.roi_heads.box_predictor = FastRCNNPredictor(in_features, num_classes)"
   ]
  },
  {
   "cell_type": "code",
   "execution_count": null,
   "metadata": {},
   "outputs": [],
   "source": [
    "from engine import train_one_epoch, evaluate\n",
    "import utils\n",
    "\n",
    "device = torch.device('cuda') if torch.cuda.is_available() else torch.device('cpu')\n",
    "num_classes = 2\n",
    "\n",
    "list_fpath = './apollo_tl_demo_data/trainsets/list'\n",
    "dataset = TLDataset(list_fpath)\n",
    "dataset_test = TLDataset(list_fpath)\n",
    "\n",
    "# split the dataset in train and test set\n",
    "indices = torch.randperm(len(dataset)).tolist()\n",
    "dataset = torch.utils.data.Subset(dataset, indices[:-20])\n",
    "dataset_test = torch.utils.data.Subset(dataset_test, indices[-80:])\n",
    "\n",
    "# define training and validation data loaders\n",
    "data_loader = torch.utils.data.DataLoader(\n",
    "    dataset, batch_size=2, shuffle=True, num_workers=1,\n",
    "    collate_fn=utils.collate_fn)\n",
    "\n",
    "data_loader_test = torch.utils.data.DataLoader(\n",
    "    dataset_test, batch_size=1, shuffle=False, num_workers=1,\n",
    "    collate_fn=utils.collate_fn)\n",
    "\n",
    "model.to(device)\n",
    "\n",
    "# construct an optimizer\n",
    "params = [p for p in model.parameters() if p.requires_grad]\n",
    "optimizer = torch.optim.SGD(params, lr=0.01,\n",
    "                            momentum=0.9, weight_decay=0.0005)\n",
    "# and a learning rate scheduler\n",
    "lr_scheduler = torch.optim.lr_scheduler.StepLR(optimizer,\n",
    "                                               step_size=6,\n",
    "                                               gamma=0.1)\n",
    "\n",
    "# let's train it for 10 epochs\n",
    "num_epochs = 10\n",
    "\n",
    "for epoch in range(num_epochs):\n",
    "    # train for one epoch, printing every 10 iterations\n",
    "    train_one_epoch(model, optimizer, data_loader, device, epoch, print_freq=10)\n",
    "    # update the learning rate\n",
    "    lr_scheduler.step()\n",
    "    # evaluate on the test dataset\n",
    "    evaluate(model, data_loader_test, device=device)\n",
    "\n",
    "print(\"Done!\")\n",
    "\n",
    "# save model\n",
    "TL_MODEL_PATH = 'tl_detect_model.pth'\n",
    "torch.save(model.state_dict(), TL_MODEL_PATH)"
   ]
  },
  {
   "cell_type": "code",
   "execution_count": null,
   "metadata": {},
   "outputs": [],
   "source": [
    "from torchvision import transforms\n",
    "from PIL import Image\n",
    "import cv2\n",
    "import numpy as np\n",
    "\n",
    "# model.load_state_dict(torch.load(TL_MODEL_PATH))\n",
    "model.eval()\n",
    "trans = transforms.Compose([transforms.ToTensor()])\n",
    "\n",
    "test_img_dir = './apollo_tl_demo_data/testsets/images/'\n",
    "\n",
    "for i in range(100):\n",
    "    test_img_path = '{}/{:0>5d}.jpg'.format(test_img_dir, i)\n",
    "    test_img = Image.open(test_img_path).convert(\"RGB\")\n",
    "    cv_img = cv2.cvtColor(np.asarray(test_img),cv2.COLOR_RGB2BGR)\n",
    "    x = [trans(test_img).to(device)]\n",
    "    predictions = model(x)\n",
    "    # print(predictions)\n",
    "    num_boxes = predictions[0]['scores'].size()[0]\n",
    "    for j in range(num_boxes):\n",
    "        xmin = int(predictions[0]['boxes'][j][0].item())\n",
    "        ymin = int(predictions[0]['boxes'][j][1].item())\n",
    "        xmax = int(predictions[0]['boxes'][j][2].item())\n",
    "        ymax = int(predictions[0]['boxes'][j][3].item())\n",
    "        confidence = float(predictions[0]['scores'][j].item())\n",
    "        print(xmin, ymin, xmax, ymax)\n",
    "        print(confidence)\n",
    "        if confidence < 0.7:\n",
    "            continue\n",
    "        cv2.rectangle(cv_img, (xmin, ymin), (xmax, ymax), (0,0,255), 2)\n",
    "    cv2.imwrite('./vis_det/{:0>5d}.jpg'.format(i), cv_img)"
   ]
  },
  {
   "cell_type": "code",
   "execution_count": null,
   "metadata": {},
   "outputs": [],
   "source": []
  }
 ],
 "metadata": {
  "kernelspec": {
   "display_name": "Python [conda env:py36_torch] *",
   "language": "python",
   "name": "conda-env-py36_torch-py"
  },
  "language_info": {
   "codemirror_mode": {
    "name": "ipython",
    "version": 3
   },
   "file_extension": ".py",
   "mimetype": "text/x-python",
   "name": "python",
   "nbconvert_exporter": "python",
   "pygments_lexer": "ipython3",
   "version": "3.6.9"
  }
 },
 "nbformat": 4,
 "nbformat_minor": 2
}
